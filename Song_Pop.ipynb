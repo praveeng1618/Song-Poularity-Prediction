{
 "cells": [
  {
   "cell_type": "code",
   "execution_count": 1,
   "id": "83b61482",
   "metadata": {},
   "outputs": [],
   "source": [
    "import pandas as pd \n",
    "import matplotlib.pyplot as plt\n",
    "import numpy as np\n"
   ]
  },
  {
   "cell_type": "code",
   "execution_count": 38,
   "id": "ef068f6d",
   "metadata": {},
   "outputs": [],
   "source": [
    "train = pd.read_csv('train.csv') \n",
    "test = pd.read_csv('test.csv')\n",
    "sample_sub = pd.read_csv('sample_submission.csv')"
   ]
  },
  {
   "cell_type": "markdown",
   "id": "22f60a79",
   "metadata": {},
   "source": [
    "Data Exploration"
   ]
  },
  {
   "cell_type": "code",
   "execution_count": 4,
   "id": "7a6a7b8e",
   "metadata": {},
   "outputs": [
    {
     "data": {
      "text/html": [
       "<div>\n",
       "<style scoped>\n",
       "    .dataframe tbody tr th:only-of-type {\n",
       "        vertical-align: middle;\n",
       "    }\n",
       "\n",
       "    .dataframe tbody tr th {\n",
       "        vertical-align: top;\n",
       "    }\n",
       "\n",
       "    .dataframe thead th {\n",
       "        text-align: right;\n",
       "    }\n",
       "</style>\n",
       "<table border=\"1\" class=\"dataframe\">\n",
       "  <thead>\n",
       "    <tr style=\"text-align: right;\">\n",
       "      <th></th>\n",
       "      <th>id</th>\n",
       "      <th>song_duration_ms</th>\n",
       "      <th>acousticness</th>\n",
       "      <th>danceability</th>\n",
       "      <th>energy</th>\n",
       "      <th>instrumentalness</th>\n",
       "      <th>key</th>\n",
       "      <th>liveness</th>\n",
       "      <th>loudness</th>\n",
       "      <th>audio_mode</th>\n",
       "      <th>speechiness</th>\n",
       "      <th>tempo</th>\n",
       "      <th>time_signature</th>\n",
       "      <th>audio_valence</th>\n",
       "      <th>song_popularity</th>\n",
       "    </tr>\n",
       "  </thead>\n",
       "  <tbody>\n",
       "    <tr>\n",
       "      <th>0</th>\n",
       "      <td>0</td>\n",
       "      <td>212990.0</td>\n",
       "      <td>0.642286</td>\n",
       "      <td>0.856520</td>\n",
       "      <td>0.707073</td>\n",
       "      <td>0.002001</td>\n",
       "      <td>10.0</td>\n",
       "      <td>NaN</td>\n",
       "      <td>-5.619088</td>\n",
       "      <td>0</td>\n",
       "      <td>0.082570</td>\n",
       "      <td>158.386236</td>\n",
       "      <td>4</td>\n",
       "      <td>0.734642</td>\n",
       "      <td>0</td>\n",
       "    </tr>\n",
       "    <tr>\n",
       "      <th>1</th>\n",
       "      <td>1</td>\n",
       "      <td>NaN</td>\n",
       "      <td>0.054866</td>\n",
       "      <td>0.733289</td>\n",
       "      <td>0.835545</td>\n",
       "      <td>0.000996</td>\n",
       "      <td>8.0</td>\n",
       "      <td>0.436428</td>\n",
       "      <td>-5.236965</td>\n",
       "      <td>1</td>\n",
       "      <td>0.127358</td>\n",
       "      <td>102.752988</td>\n",
       "      <td>3</td>\n",
       "      <td>0.711531</td>\n",
       "      <td>1</td>\n",
       "    </tr>\n",
       "    <tr>\n",
       "      <th>2</th>\n",
       "      <td>2</td>\n",
       "      <td>193213.0</td>\n",
       "      <td>NaN</td>\n",
       "      <td>0.188387</td>\n",
       "      <td>0.783524</td>\n",
       "      <td>-0.002694</td>\n",
       "      <td>5.0</td>\n",
       "      <td>0.170499</td>\n",
       "      <td>-4.951759</td>\n",
       "      <td>0</td>\n",
       "      <td>0.052282</td>\n",
       "      <td>178.685791</td>\n",
       "      <td>3</td>\n",
       "      <td>0.425536</td>\n",
       "      <td>0</td>\n",
       "    </tr>\n",
       "    <tr>\n",
       "      <th>3</th>\n",
       "      <td>3</td>\n",
       "      <td>249893.0</td>\n",
       "      <td>0.488660</td>\n",
       "      <td>0.585234</td>\n",
       "      <td>0.552685</td>\n",
       "      <td>0.000608</td>\n",
       "      <td>0.0</td>\n",
       "      <td>0.094805</td>\n",
       "      <td>-7.893694</td>\n",
       "      <td>0</td>\n",
       "      <td>0.035618</td>\n",
       "      <td>128.715630</td>\n",
       "      <td>3</td>\n",
       "      <td>0.453597</td>\n",
       "      <td>0</td>\n",
       "    </tr>\n",
       "    <tr>\n",
       "      <th>4</th>\n",
       "      <td>4</td>\n",
       "      <td>165969.0</td>\n",
       "      <td>0.493017</td>\n",
       "      <td>NaN</td>\n",
       "      <td>0.740982</td>\n",
       "      <td>0.002033</td>\n",
       "      <td>10.0</td>\n",
       "      <td>0.094891</td>\n",
       "      <td>-2.684095</td>\n",
       "      <td>0</td>\n",
       "      <td>0.050746</td>\n",
       "      <td>121.928157</td>\n",
       "      <td>4</td>\n",
       "      <td>0.741311</td>\n",
       "      <td>0</td>\n",
       "    </tr>\n",
       "  </tbody>\n",
       "</table>\n",
       "</div>"
      ],
      "text/plain": [
       "   id  song_duration_ms  acousticness  danceability    energy  \\\n",
       "0   0          212990.0      0.642286      0.856520  0.707073   \n",
       "1   1               NaN      0.054866      0.733289  0.835545   \n",
       "2   2          193213.0           NaN      0.188387  0.783524   \n",
       "3   3          249893.0      0.488660      0.585234  0.552685   \n",
       "4   4          165969.0      0.493017           NaN  0.740982   \n",
       "\n",
       "   instrumentalness   key  liveness  loudness  audio_mode  speechiness  \\\n",
       "0          0.002001  10.0       NaN -5.619088           0     0.082570   \n",
       "1          0.000996   8.0  0.436428 -5.236965           1     0.127358   \n",
       "2         -0.002694   5.0  0.170499 -4.951759           0     0.052282   \n",
       "3          0.000608   0.0  0.094805 -7.893694           0     0.035618   \n",
       "4          0.002033  10.0  0.094891 -2.684095           0     0.050746   \n",
       "\n",
       "        tempo  time_signature  audio_valence  song_popularity  \n",
       "0  158.386236               4       0.734642                0  \n",
       "1  102.752988               3       0.711531                1  \n",
       "2  178.685791               3       0.425536                0  \n",
       "3  128.715630               3       0.453597                0  \n",
       "4  121.928157               4       0.741311                0  "
      ]
     },
     "execution_count": 4,
     "metadata": {},
     "output_type": "execute_result"
    }
   ],
   "source": [
    "train.head()"
   ]
  },
  {
   "cell_type": "code",
   "execution_count": 5,
   "id": "81123d8a",
   "metadata": {},
   "outputs": [
    {
     "data": {
      "text/html": [
       "<div>\n",
       "<style scoped>\n",
       "    .dataframe tbody tr th:only-of-type {\n",
       "        vertical-align: middle;\n",
       "    }\n",
       "\n",
       "    .dataframe tbody tr th {\n",
       "        vertical-align: top;\n",
       "    }\n",
       "\n",
       "    .dataframe thead th {\n",
       "        text-align: right;\n",
       "    }\n",
       "</style>\n",
       "<table border=\"1\" class=\"dataframe\">\n",
       "  <thead>\n",
       "    <tr style=\"text-align: right;\">\n",
       "      <th></th>\n",
       "      <th>id</th>\n",
       "      <th>song_duration_ms</th>\n",
       "      <th>acousticness</th>\n",
       "      <th>danceability</th>\n",
       "      <th>energy</th>\n",
       "      <th>instrumentalness</th>\n",
       "      <th>key</th>\n",
       "      <th>liveness</th>\n",
       "      <th>loudness</th>\n",
       "      <th>audio_mode</th>\n",
       "      <th>speechiness</th>\n",
       "      <th>tempo</th>\n",
       "      <th>time_signature</th>\n",
       "      <th>audio_valence</th>\n",
       "    </tr>\n",
       "  </thead>\n",
       "  <tbody>\n",
       "    <tr>\n",
       "      <th>0</th>\n",
       "      <td>0</td>\n",
       "      <td>308523.0</td>\n",
       "      <td>0.019845</td>\n",
       "      <td>NaN</td>\n",
       "      <td>0.908939</td>\n",
       "      <td>0.001438</td>\n",
       "      <td>NaN</td>\n",
       "      <td>0.112832</td>\n",
       "      <td>-8.890172</td>\n",
       "      <td>0</td>\n",
       "      <td>0.082714</td>\n",
       "      <td>126.129304</td>\n",
       "      <td>4</td>\n",
       "      <td>0.399620</td>\n",
       "    </tr>\n",
       "    <tr>\n",
       "      <th>1</th>\n",
       "      <td>1</td>\n",
       "      <td>200011.0</td>\n",
       "      <td>0.070119</td>\n",
       "      <td>0.731256</td>\n",
       "      <td>0.444655</td>\n",
       "      <td>0.002020</td>\n",
       "      <td>10.0</td>\n",
       "      <td>0.139040</td>\n",
       "      <td>-6.301214</td>\n",
       "      <td>0</td>\n",
       "      <td>0.061685</td>\n",
       "      <td>86.448149</td>\n",
       "      <td>3</td>\n",
       "      <td>0.499424</td>\n",
       "    </tr>\n",
       "    <tr>\n",
       "      <th>2</th>\n",
       "      <td>2</td>\n",
       "      <td>279758.0</td>\n",
       "      <td>0.810637</td>\n",
       "      <td>0.568858</td>\n",
       "      <td>0.125466</td>\n",
       "      <td>0.898841</td>\n",
       "      <td>0.0</td>\n",
       "      <td>0.226614</td>\n",
       "      <td>-11.542478</td>\n",
       "      <td>0</td>\n",
       "      <td>0.041868</td>\n",
       "      <td>99.544351</td>\n",
       "      <td>3</td>\n",
       "      <td>0.564951</td>\n",
       "    </tr>\n",
       "    <tr>\n",
       "      <th>3</th>\n",
       "      <td>3</td>\n",
       "      <td>249197.0</td>\n",
       "      <td>NaN</td>\n",
       "      <td>0.871789</td>\n",
       "      <td>0.557342</td>\n",
       "      <td>0.000715</td>\n",
       "      <td>4.0</td>\n",
       "      <td>0.325391</td>\n",
       "      <td>-7.905546</td>\n",
       "      <td>1</td>\n",
       "      <td>0.046815</td>\n",
       "      <td>123.063854</td>\n",
       "      <td>4</td>\n",
       "      <td>0.906485</td>\n",
       "    </tr>\n",
       "    <tr>\n",
       "      <th>4</th>\n",
       "      <td>4</td>\n",
       "      <td>NaN</td>\n",
       "      <td>0.765568</td>\n",
       "      <td>0.624687</td>\n",
       "      <td>0.710794</td>\n",
       "      <td>0.000346</td>\n",
       "      <td>8.0</td>\n",
       "      <td>0.308284</td>\n",
       "      <td>NaN</td>\n",
       "      <td>0</td>\n",
       "      <td>0.129284</td>\n",
       "      <td>88.703121</td>\n",
       "      <td>3</td>\n",
       "      <td>0.935571</td>\n",
       "    </tr>\n",
       "  </tbody>\n",
       "</table>\n",
       "</div>"
      ],
      "text/plain": [
       "   id  song_duration_ms  acousticness  danceability    energy  \\\n",
       "0   0          308523.0      0.019845           NaN  0.908939   \n",
       "1   1          200011.0      0.070119      0.731256  0.444655   \n",
       "2   2          279758.0      0.810637      0.568858  0.125466   \n",
       "3   3          249197.0           NaN      0.871789  0.557342   \n",
       "4   4               NaN      0.765568      0.624687  0.710794   \n",
       "\n",
       "   instrumentalness   key  liveness   loudness  audio_mode  speechiness  \\\n",
       "0          0.001438   NaN  0.112832  -8.890172           0     0.082714   \n",
       "1          0.002020  10.0  0.139040  -6.301214           0     0.061685   \n",
       "2          0.898841   0.0  0.226614 -11.542478           0     0.041868   \n",
       "3          0.000715   4.0  0.325391  -7.905546           1     0.046815   \n",
       "4          0.000346   8.0  0.308284        NaN           0     0.129284   \n",
       "\n",
       "        tempo  time_signature  audio_valence  \n",
       "0  126.129304               4       0.399620  \n",
       "1   86.448149               3       0.499424  \n",
       "2   99.544351               3       0.564951  \n",
       "3  123.063854               4       0.906485  \n",
       "4   88.703121               3       0.935571  "
      ]
     },
     "execution_count": 5,
     "metadata": {},
     "output_type": "execute_result"
    }
   ],
   "source": [
    "test.head()"
   ]
  },
  {
   "cell_type": "code",
   "execution_count": 13,
   "id": "36af4891",
   "metadata": {},
   "outputs": [
    {
     "data": {
      "text/plain": [
       "id                   0.0000\n",
       "song_duration_ms    10.2525\n",
       "acousticness         9.9800\n",
       "danceability        10.0650\n",
       "energy               9.9375\n",
       "instrumentalness     9.9625\n",
       "key                 10.1625\n",
       "liveness            10.2150\n",
       "loudness             9.8925\n",
       "audio_mode           0.0000\n",
       "speechiness          0.0000\n",
       "tempo                0.0000\n",
       "time_signature       0.0000\n",
       "audio_valence        0.0000\n",
       "song_popularity      0.0000\n",
       "dtype: float64"
      ]
     },
     "execution_count": 13,
     "metadata": {},
     "output_type": "execute_result"
    }
   ],
   "source": [
    "train.isnull().sum()/train.shape[0] * 100"
   ]
  },
  {
   "cell_type": "markdown",
   "id": "55389b00",
   "metadata": {},
   "source": [
    "This shows train and test data have null values and checking the percentages of null values it resulted a very less percentage and no need of removing those columns but filling them with imputation process."
   ]
  },
  {
   "cell_type": "code",
   "execution_count": 14,
   "id": "99e58fb4",
   "metadata": {},
   "outputs": [],
   "source": [
    "null_col = ['song_duration_ms', 'acousticness', 'danceability', 'energy', 'instrumentalness', 'key', 'liveness', 'loudness']"
   ]
  },
  {
   "cell_type": "code",
   "execution_count": 30,
   "id": "42b51768",
   "metadata": {},
   "outputs": [],
   "source": [
    "from sklearn.experimental import enable_iterative_imputer\n",
    "from sklearn.impute import IterativeImputer\n",
    "imputer = IterativeImputer()"
   ]
  },
  {
   "cell_type": "code",
   "execution_count": 45,
   "id": "c3cd2fc6",
   "metadata": {},
   "outputs": [],
   "source": [
    "X_train = train.drop(['id', 'song_popularity'], axis=1)\n",
    "y_train = train['song_popularity']"
   ]
  },
  {
   "cell_type": "code",
   "execution_count": 46,
   "id": "3045eee6",
   "metadata": {},
   "outputs": [],
   "source": [
    "train_impute = imputer.fit_transform(X_train.copy())"
   ]
  },
  {
   "cell_type": "code",
   "execution_count": 62,
   "id": "b13f68ec",
   "metadata": {},
   "outputs": [],
   "source": [
    "train_iterative_impute = pd.DataFrame(train_impute, columns=list(X_train.columns))"
   ]
  },
  {
   "cell_type": "code",
   "execution_count": 63,
   "id": "7c553399",
   "metadata": {},
   "outputs": [],
   "source": [
    "from sklearn.ensemble import RandomForestClassifier\n",
    "from sklearn.experimental import enable_iterative_imputer\n",
    "from sklearn.impute import IterativeImputer\n",
    "from sklearn.model_selection import cross_val_score,KFold\n",
    "from sklearn.model_selection import RepeatedStratifiedKFold\n",
    "from sklearn.pipeline import Pipeline\n",
    "from sklearn.linear_model import LogisticRegression"
   ]
  },
  {
   "cell_type": "code",
   "execution_count": 66,
   "id": "f3e2f958",
   "metadata": {},
   "outputs": [
    {
     "name": "stdout",
     "output_type": "stream",
     "text": [
      "Cross Validation Scores are [0.63475  0.631625 0.637875 0.638875 0.634875]\n",
      "Average Cross Validation score :0.6355999999999999\n"
     ]
    }
   ],
   "source": [
    "logreg=LogisticRegression()\n",
    "kf=KFold(n_splits=5)\n",
    "score=cross_val_score(logreg,train_iterative_impute,y_train,cv=kf)\n",
    "print(\"Cross Validation Scores are {}\".format(score))\n",
    "print(\"Average Cross Validation score :{}\".format(score.mean()))"
   ]
  },
  {
   "cell_type": "markdown",
   "id": "e40e3868",
   "metadata": {},
   "source": [
    "cvv = RepeatedStratifiedKFold(n_splits=10, n_repeats=3, random_state=1)\n",
    "rf = RandomForestClassifier()\n",
    "score=cross_val_score(rf,train_simple_impute,y_train,cv=cvv)\n",
    "print(\"Cross Validation Scores are {}\".format(score))\n",
    "print(\"Average Cross Validation score :{}\".format(score.mean()))"
   ]
  },
  {
   "cell_type": "code",
   "execution_count": 59,
   "id": "9cd993d6",
   "metadata": {},
   "outputs": [],
   "source": [
    "from sklearn.impute import SimpleImputer\n",
    "imputer = SimpleImputer(strategy ='mean')"
   ]
  },
  {
   "cell_type": "code",
   "execution_count": 60,
   "id": "b9c4951d",
   "metadata": {},
   "outputs": [],
   "source": [
    "data = imputer.fit_transform(X_train.copy())"
   ]
  },
  {
   "cell_type": "code",
   "execution_count": 65,
   "id": "4de9974a",
   "metadata": {},
   "outputs": [],
   "source": [
    "train_simple_impute = pd.DataFrame(data, columns=list(X_train.columns))"
   ]
  },
  {
   "cell_type": "code",
   "execution_count": 70,
   "id": "2f504aed",
   "metadata": {},
   "outputs": [],
   "source": [
    "from sklearn.ensemble import RandomForestRegressor\n",
    "#regressor = RandomForestRegressor(n_estimators = 100, random_state = 0)"
   ]
  },
  {
   "cell_type": "code",
   "execution_count": 72,
   "id": "b3752450",
   "metadata": {},
   "outputs": [
    {
     "name": "stdout",
     "output_type": "stream",
     "text": [
      "Cross Validation Scores are [0.63475  0.631625 0.637875 0.638875 0.634875]\n",
      "Average Cross Validation score :0.6355999999999999\n"
     ]
    }
   ],
   "source": [
    "logreg=LogisticRegression()\n",
    "kf=KFold(n_splits=5)\n",
    "score=cross_val_score(logreg,train_simple_impute,y_train,cv=kf)\n",
    "print(\"Cross Validation Scores are {}\".format(score))\n",
    "print(\"Average Cross Validation score :{}\".format(score.mean()))"
   ]
  },
  {
   "cell_type": "markdown",
   "id": "8d09efb4",
   "metadata": {},
   "source": [
    "so by cross validation score its came to know that simple impute and iterative impute are performing the same on handling missing values.\n"
   ]
  },
  {
   "cell_type": "code",
   "execution_count": 78,
   "id": "710ad82a",
   "metadata": {},
   "outputs": [],
   "source": [
    "test_data = imputer.transform(test.copy())\n",
    "test_simple_impute = pd.DataFrame(test_data, columns=list(test.columns))"
   ]
  },
  {
   "cell_type": "code",
   "execution_count": 79,
   "id": "09d87235",
   "metadata": {},
   "outputs": [
    {
     "data": {
      "text/plain": [
       "id                  0\n",
       "song_duration_ms    0\n",
       "acousticness        0\n",
       "danceability        0\n",
       "energy              0\n",
       "instrumentalness    0\n",
       "key                 0\n",
       "liveness            0\n",
       "loudness            0\n",
       "audio_mode          0\n",
       "speechiness         0\n",
       "tempo               0\n",
       "time_signature      0\n",
       "audio_valence       0\n",
       "dtype: int64"
      ]
     },
     "execution_count": 79,
     "metadata": {},
     "output_type": "execute_result"
    }
   ],
   "source": [
    "test_simple_impute.isnull().sum()"
   ]
  },
  {
   "cell_type": "code",
   "execution_count": 80,
   "id": "a0339a76",
   "metadata": {},
   "outputs": [],
   "source": [
    "X = train_simple_impute\n",
    "Y = y_train "
   ]
  },
  {
   "cell_type": "code",
   "execution_count": 81,
   "id": "2baa3593",
   "metadata": {},
   "outputs": [],
   "source": [
    "from sklearn.model_selection import train_test_split\n",
    "x_train, x_test, y_train, y_test = train_test_split(X, Y, test_size=0.25, random_state=0)"
   ]
  },
  {
   "cell_type": "code",
   "execution_count": 82,
   "id": "5469dacd",
   "metadata": {},
   "outputs": [
    {
     "data": {
      "text/plain": [
       "LogisticRegression()"
      ]
     },
     "execution_count": 82,
     "metadata": {},
     "output_type": "execute_result"
    }
   ],
   "source": [
    "logreg.fit(x_train, y_train)"
   ]
  },
  {
   "cell_type": "code",
   "execution_count": 83,
   "id": "fdb490e2",
   "metadata": {},
   "outputs": [],
   "source": [
    "predictions = logreg.predict(x_test)\n"
   ]
  },
  {
   "cell_type": "code",
   "execution_count": 84,
   "id": "6bad821b",
   "metadata": {},
   "outputs": [
    {
     "name": "stdout",
     "output_type": "stream",
     "text": [
      "0.6377\n"
     ]
    }
   ],
   "source": [
    "score = logreg.score(x_test, y_test)\n",
    "print(score)"
   ]
  },
  {
   "cell_type": "code",
   "execution_count": 98,
   "id": "9c56601d",
   "metadata": {},
   "outputs": [],
   "source": [
    "dataset = imputer.fit_transform(train.copy())"
   ]
  },
  {
   "cell_type": "code",
   "execution_count": 99,
   "id": "a13b0530",
   "metadata": {},
   "outputs": [],
   "source": [
    "train_simple_imputer= pd.DataFrame(dataset, columns=list(train.columns))"
   ]
  },
  {
   "cell_type": "code",
   "execution_count": 100,
   "id": "392bf8fe",
   "metadata": {
    "scrolled": true
   },
   "outputs": [
    {
     "data": {
      "text/html": [
       "<div>\n",
       "<style scoped>\n",
       "    .dataframe tbody tr th:only-of-type {\n",
       "        vertical-align: middle;\n",
       "    }\n",
       "\n",
       "    .dataframe tbody tr th {\n",
       "        vertical-align: top;\n",
       "    }\n",
       "\n",
       "    .dataframe thead th {\n",
       "        text-align: right;\n",
       "    }\n",
       "</style>\n",
       "<table border=\"1\" class=\"dataframe\">\n",
       "  <thead>\n",
       "    <tr style=\"text-align: right;\">\n",
       "      <th></th>\n",
       "      <th>id</th>\n",
       "      <th>song_duration_ms</th>\n",
       "      <th>acousticness</th>\n",
       "      <th>danceability</th>\n",
       "      <th>energy</th>\n",
       "      <th>instrumentalness</th>\n",
       "      <th>key</th>\n",
       "      <th>liveness</th>\n",
       "      <th>loudness</th>\n",
       "      <th>audio_mode</th>\n",
       "      <th>speechiness</th>\n",
       "      <th>tempo</th>\n",
       "      <th>time_signature</th>\n",
       "      <th>audio_valence</th>\n",
       "      <th>song_popularity</th>\n",
       "    </tr>\n",
       "  </thead>\n",
       "  <tbody>\n",
       "    <tr>\n",
       "      <th>0</th>\n",
       "      <td>0.0</td>\n",
       "      <td>212990.000000</td>\n",
       "      <td>0.642286</td>\n",
       "      <td>0.856520</td>\n",
       "      <td>0.707073</td>\n",
       "      <td>0.002001</td>\n",
       "      <td>10.0</td>\n",
       "      <td>0.198514</td>\n",
       "      <td>-5.619088</td>\n",
       "      <td>0.0</td>\n",
       "      <td>0.082570</td>\n",
       "      <td>158.386236</td>\n",
       "      <td>4.0</td>\n",
       "      <td>0.734642</td>\n",
       "      <td>0.0</td>\n",
       "    </tr>\n",
       "    <tr>\n",
       "      <th>1</th>\n",
       "      <td>1.0</td>\n",
       "      <td>193165.847572</td>\n",
       "      <td>0.054866</td>\n",
       "      <td>0.733289</td>\n",
       "      <td>0.835545</td>\n",
       "      <td>0.000996</td>\n",
       "      <td>8.0</td>\n",
       "      <td>0.436428</td>\n",
       "      <td>-5.236965</td>\n",
       "      <td>1.0</td>\n",
       "      <td>0.127358</td>\n",
       "      <td>102.752988</td>\n",
       "      <td>3.0</td>\n",
       "      <td>0.711531</td>\n",
       "      <td>1.0</td>\n",
       "    </tr>\n",
       "    <tr>\n",
       "      <th>2</th>\n",
       "      <td>2.0</td>\n",
       "      <td>193213.000000</td>\n",
       "      <td>0.276404</td>\n",
       "      <td>0.188387</td>\n",
       "      <td>0.783524</td>\n",
       "      <td>-0.002694</td>\n",
       "      <td>5.0</td>\n",
       "      <td>0.170499</td>\n",
       "      <td>-4.951759</td>\n",
       "      <td>0.0</td>\n",
       "      <td>0.052282</td>\n",
       "      <td>178.685791</td>\n",
       "      <td>3.0</td>\n",
       "      <td>0.425536</td>\n",
       "      <td>0.0</td>\n",
       "    </tr>\n",
       "    <tr>\n",
       "      <th>3</th>\n",
       "      <td>3.0</td>\n",
       "      <td>249893.000000</td>\n",
       "      <td>0.488660</td>\n",
       "      <td>0.585234</td>\n",
       "      <td>0.552685</td>\n",
       "      <td>0.000608</td>\n",
       "      <td>0.0</td>\n",
       "      <td>0.094805</td>\n",
       "      <td>-7.893694</td>\n",
       "      <td>0.0</td>\n",
       "      <td>0.035618</td>\n",
       "      <td>128.715630</td>\n",
       "      <td>3.0</td>\n",
       "      <td>0.453597</td>\n",
       "      <td>0.0</td>\n",
       "    </tr>\n",
       "    <tr>\n",
       "      <th>4</th>\n",
       "      <td>4.0</td>\n",
       "      <td>165969.000000</td>\n",
       "      <td>0.493017</td>\n",
       "      <td>0.570951</td>\n",
       "      <td>0.740982</td>\n",
       "      <td>0.002033</td>\n",
       "      <td>10.0</td>\n",
       "      <td>0.094891</td>\n",
       "      <td>-2.684095</td>\n",
       "      <td>0.0</td>\n",
       "      <td>0.050746</td>\n",
       "      <td>121.928157</td>\n",
       "      <td>4.0</td>\n",
       "      <td>0.741311</td>\n",
       "      <td>0.0</td>\n",
       "    </tr>\n",
       "  </tbody>\n",
       "</table>\n",
       "</div>"
      ],
      "text/plain": [
       "    id  song_duration_ms  acousticness  danceability    energy  \\\n",
       "0  0.0     212990.000000      0.642286      0.856520  0.707073   \n",
       "1  1.0     193165.847572      0.054866      0.733289  0.835545   \n",
       "2  2.0     193213.000000      0.276404      0.188387  0.783524   \n",
       "3  3.0     249893.000000      0.488660      0.585234  0.552685   \n",
       "4  4.0     165969.000000      0.493017      0.570951  0.740982   \n",
       "\n",
       "   instrumentalness   key  liveness  loudness  audio_mode  speechiness  \\\n",
       "0          0.002001  10.0  0.198514 -5.619088         0.0     0.082570   \n",
       "1          0.000996   8.0  0.436428 -5.236965         1.0     0.127358   \n",
       "2         -0.002694   5.0  0.170499 -4.951759         0.0     0.052282   \n",
       "3          0.000608   0.0  0.094805 -7.893694         0.0     0.035618   \n",
       "4          0.002033  10.0  0.094891 -2.684095         0.0     0.050746   \n",
       "\n",
       "        tempo  time_signature  audio_valence  song_popularity  \n",
       "0  158.386236             4.0       0.734642              0.0  \n",
       "1  102.752988             3.0       0.711531              1.0  \n",
       "2  178.685791             3.0       0.425536              0.0  \n",
       "3  128.715630             3.0       0.453597              0.0  \n",
       "4  121.928157             4.0       0.741311              0.0  "
      ]
     },
     "execution_count": 100,
     "metadata": {},
     "output_type": "execute_result"
    }
   ],
   "source": [
    "train_simple_imputer.head()"
   ]
  },
  {
   "cell_type": "code",
   "execution_count": 127,
   "id": "42352b5d",
   "metadata": {},
   "outputs": [],
   "source": [
    "import scipy"
   ]
  },
  {
   "cell_type": "code",
   "execution_count": 129,
   "id": "1b12ef0a",
   "metadata": {},
   "outputs": [],
   "source": [
    "column = ['liveness', 'speechiness']\n",
    "for col in column:\n",
    "    train_simple_imputer[col], filterd_lmbda = scipy.stats.boxcox(train_simple_imputer[col], lmbda=None)"
   ]
  },
  {
   "cell_type": "code",
   "execution_count": 130,
   "id": "425873f0",
   "metadata": {},
   "outputs": [],
   "source": [
    "X = train_simple_imputer.drop(['id', 'song_popularity'], axis=1)\n",
    "Y = train_simple_imputer['song_popularity']"
   ]
  },
  {
   "cell_type": "code",
   "execution_count": 102,
   "id": "94b4567c",
   "metadata": {},
   "outputs": [],
   "source": [
    "from sklearn.linear_model import LogisticRegression\n",
    "from sklearn.tree import DecisionTreeClassifier\n",
    "from sklearn.ensemble import RandomForestClassifier\n",
    "#from xgboost import XGBClassifier\n",
    "#from catboost import CatBoostClassifier\n",
    "#from lightgbm import LGBMClassifier"
   ]
  },
  {
   "cell_type": "code",
   "execution_count": 103,
   "id": "e666e433",
   "metadata": {},
   "outputs": [],
   "source": [
    "log_reg = LogisticRegression()\n",
    "decision_tree = DecisionTreeClassifier()\n",
    "random_forest = RandomForestClassifier()\n",
    "\n",
    "#xgboost = XGBClassifier()\n",
    "#lgbm = LGBMClassifier()\n",
    "#cat = CatBoostClassifier()"
   ]
  },
  {
   "cell_type": "code",
   "execution_count": 107,
   "id": "b7344092",
   "metadata": {},
   "outputs": [],
   "source": [
    "from sklearn.metrics import roc_auc_score"
   ]
  },
  {
   "cell_type": "code",
   "execution_count": 133,
   "id": "026aa4e5",
   "metadata": {},
   "outputs": [],
   "source": [
    "from sklearn.model_selection import train_test_split\n",
    "X_train, x_test, y_train, y_test = train_test_split(X, Y, test_size=0.25, random_state=1)"
   ]
  },
  {
   "cell_type": "code",
   "execution_count": 134,
   "id": "fb1646a3",
   "metadata": {},
   "outputs": [
    {
     "name": "stdout",
     "output_type": "stream",
     "text": [
      "Logistice regression\n",
      "AUC of the Logistice regression ---> 0.5\n",
      "Decision tree\n",
      "AUC of the Decision tree ---> 0.5074703209055318\n",
      "Random Forest\n",
      "AUC of the Random Forest ---> 0.5100933549001764\n"
     ]
    }
   ],
   "source": [
    "models = {\"Logistice regression\": log_reg,\"Decision tree\": decision_tree, \"Random Forest\": random_forest}\n",
    "\n",
    "for model_name, model in models.items():\n",
    "    print(model_name)\n",
    "    model.fit(X_train, y_train)\n",
    "    y_pred = model.predict(x_test)\n",
    "    auc = roc_auc_score(y_test, y_pred)\n",
    "    print(\"AUC of the {} ---> {}\".format(model_name, auc))"
   ]
  },
  {
   "cell_type": "code",
   "execution_count": 117,
   "id": "21cade08",
   "metadata": {},
   "outputs": [],
   "source": [
    "test_data = test_simple_impute.drop(['id'], axis=1)"
   ]
  },
  {
   "cell_type": "code",
   "execution_count": 125,
   "id": "9e7eccfe",
   "metadata": {},
   "outputs": [
    {
     "data": {
      "text/html": [
       "<div>\n",
       "<style scoped>\n",
       "    .dataframe tbody tr th:only-of-type {\n",
       "        vertical-align: middle;\n",
       "    }\n",
       "\n",
       "    .dataframe tbody tr th {\n",
       "        vertical-align: top;\n",
       "    }\n",
       "\n",
       "    .dataframe thead th {\n",
       "        text-align: right;\n",
       "    }\n",
       "</style>\n",
       "<table border=\"1\" class=\"dataframe\">\n",
       "  <thead>\n",
       "    <tr style=\"text-align: right;\">\n",
       "      <th></th>\n",
       "      <th>id</th>\n",
       "      <th>song_popularity</th>\n",
       "    </tr>\n",
       "  </thead>\n",
       "  <tbody>\n",
       "    <tr>\n",
       "      <th>0</th>\n",
       "      <td>0</td>\n",
       "      <td>1</td>\n",
       "    </tr>\n",
       "    <tr>\n",
       "      <th>1</th>\n",
       "      <td>1</td>\n",
       "      <td>0</td>\n",
       "    </tr>\n",
       "    <tr>\n",
       "      <th>2</th>\n",
       "      <td>2</td>\n",
       "      <td>0</td>\n",
       "    </tr>\n",
       "    <tr>\n",
       "      <th>3</th>\n",
       "      <td>3</td>\n",
       "      <td>0</td>\n",
       "    </tr>\n",
       "    <tr>\n",
       "      <th>4</th>\n",
       "      <td>4</td>\n",
       "      <td>0</td>\n",
       "    </tr>\n",
       "    <tr>\n",
       "      <th>...</th>\n",
       "      <td>...</td>\n",
       "      <td>...</td>\n",
       "    </tr>\n",
       "    <tr>\n",
       "      <th>9995</th>\n",
       "      <td>9995</td>\n",
       "      <td>0</td>\n",
       "    </tr>\n",
       "    <tr>\n",
       "      <th>9996</th>\n",
       "      <td>9996</td>\n",
       "      <td>0</td>\n",
       "    </tr>\n",
       "    <tr>\n",
       "      <th>9997</th>\n",
       "      <td>9997</td>\n",
       "      <td>0</td>\n",
       "    </tr>\n",
       "    <tr>\n",
       "      <th>9998</th>\n",
       "      <td>9998</td>\n",
       "      <td>1</td>\n",
       "    </tr>\n",
       "    <tr>\n",
       "      <th>9999</th>\n",
       "      <td>9999</td>\n",
       "      <td>0</td>\n",
       "    </tr>\n",
       "  </tbody>\n",
       "</table>\n",
       "<p>10000 rows × 2 columns</p>\n",
       "</div>"
      ],
      "text/plain": [
       "        id  song_popularity\n",
       "0        0                1\n",
       "1        1                0\n",
       "2        2                0\n",
       "3        3                0\n",
       "4        4                0\n",
       "...    ...              ...\n",
       "9995  9995                0\n",
       "9996  9996                0\n",
       "9997  9997                0\n",
       "9998  9998                1\n",
       "9999  9999                0\n",
       "\n",
       "[10000 rows x 2 columns]"
      ]
     },
     "execution_count": 125,
     "metadata": {},
     "output_type": "execute_result"
    }
   ],
   "source": [
    "y_pred = random_forest.predict(test_data)\n",
    "y_pred = y_pred.astype(int)\n",
    "test['song_popularity'] = y_pred\n",
    "submission = test[['id', 'song_popularity']]\n",
    "submission"
   ]
  },
  {
   "cell_type": "code",
   "execution_count": 126,
   "id": "c72ed678",
   "metadata": {},
   "outputs": [],
   "source": [
    "submission.to_csv('submission.csv', index=False)"
   ]
  },
  {
   "cell_type": "code",
   "execution_count": 135,
   "id": "a5c311db",
   "metadata": {},
   "outputs": [
    {
     "data": {
      "text/plain": [
       "0.9503113380758493"
      ]
     },
     "execution_count": 135,
     "metadata": {},
     "output_type": "execute_result"
    }
   ],
   "source": [
    "t_liveness_log = np.log(test['liveness'])\n",
    "t_liveness_log.skew()"
   ]
  },
  {
   "cell_type": "code",
   "execution_count": 137,
   "id": "f70ce7c1",
   "metadata": {},
   "outputs": [],
   "source": [
    "test['liveness'] = t_liveness_log\n"
   ]
  },
  {
   "cell_type": "code",
   "execution_count": 138,
   "id": "b5901392",
   "metadata": {},
   "outputs": [
    {
     "data": {
      "text/plain": [
       "id                  0.000000\n",
       "song_duration_ms    0.632932\n",
       "acousticness        1.004194\n",
       "danceability       -0.398386\n",
       "energy             -0.582832\n",
       "instrumentalness    4.947631\n",
       "key                -0.075304\n",
       "liveness            2.165546\n",
       "loudness           -1.430100\n",
       "audio_mode          0.766116\n",
       "speechiness         1.720121\n",
       "tempo               0.764150\n",
       "time_signature      0.254061\n",
       "audio_valence      -0.181006\n",
       "song_popularity     0.563540\n",
       "dtype: float64"
      ]
     },
     "execution_count": 138,
     "metadata": {},
     "output_type": "execute_result"
    }
   ],
   "source": [
    "train.skew()"
   ]
  },
  {
   "cell_type": "code",
   "execution_count": 139,
   "id": "1b9c9b07",
   "metadata": {},
   "outputs": [
    {
     "data": {
      "text/plain": [
       "id                  0.000000\n",
       "song_duration_ms    0.624242\n",
       "acousticness        0.984593\n",
       "danceability       -0.398803\n",
       "energy             -0.572329\n",
       "instrumentalness    4.949335\n",
       "key                -0.063806\n",
       "liveness            0.950311\n",
       "loudness           -1.410155\n",
       "audio_mode          0.753226\n",
       "speechiness         1.695977\n",
       "tempo               0.798142\n",
       "time_signature      0.220661\n",
       "audio_valence      -0.145573\n",
       "song_popularity     3.647383\n",
       "dtype: float64"
      ]
     },
     "execution_count": 139,
     "metadata": {},
     "output_type": "execute_result"
    }
   ],
   "source": [
    "test.skew()"
   ]
  },
  {
   "cell_type": "code",
   "execution_count": 140,
   "id": "4bf80a5e",
   "metadata": {},
   "outputs": [
    {
     "name": "stderr",
     "output_type": "stream",
     "text": [
      "c:\\users\\hp\\appdata\\local\\programs\\python\\python39\\lib\\site-packages\\pandas\\core\\arraylike.py:358: RuntimeWarning: invalid value encountered in log\n",
      "  result = getattr(ufunc, method)(*inputs, **kwargs)\n"
     ]
    },
    {
     "data": {
      "text/plain": [
       "1.5051342456009544"
      ]
     },
     "execution_count": 140,
     "metadata": {},
     "output_type": "execute_result"
    }
   ],
   "source": [
    "t_instrumentalness_log = np.log(test['instrumentalness'])\n",
    "t_instrumentalness_log.skew()"
   ]
  },
  {
   "cell_type": "code",
   "execution_count": 141,
   "id": "e823c4fc",
   "metadata": {},
   "outputs": [
    {
     "data": {
      "text/plain": [
       "0      -6.544156\n",
       "1      -6.204810\n",
       "2      -0.106649\n",
       "3      -7.243249\n",
       "4      -7.967652\n",
       "          ...   \n",
       "9995   -5.812630\n",
       "9996   -6.260317\n",
       "9997   -2.009715\n",
       "9998   -9.929260\n",
       "9999   -3.277392\n",
       "Name: instrumentalness, Length: 10000, dtype: float64"
      ]
     },
     "execution_count": 141,
     "metadata": {},
     "output_type": "execute_result"
    }
   ],
   "source": [
    "t_instrumentalness_log"
   ]
  },
  {
   "cell_type": "code",
   "execution_count": 142,
   "id": "9227bf6f",
   "metadata": {},
   "outputs": [],
   "source": [
    "test['instrumentalness'] = t_instrumentalness_log"
   ]
  },
  {
   "cell_type": "code",
   "execution_count": 143,
   "id": "8c04c975",
   "metadata": {},
   "outputs": [],
   "source": [
    "train['instrumentalness'] = np.log(train['instrumentalness'])\n",
    "train['liveness'] = np.log(train['liveness']) "
   ]
  },
  {
   "cell_type": "code",
   "execution_count": 144,
   "id": "34516418",
   "metadata": {},
   "outputs": [],
   "source": [
    "train['liveness'] = np.log(train['liveness']) "
   ]
  },
  {
   "cell_type": "code",
   "execution_count": 148,
   "id": "50616f4b",
   "metadata": {},
   "outputs": [
    {
     "data": {
      "text/plain": [
       "speechiness         1.720121\n",
       "instrumentalness    1.544011\n",
       "acousticness        1.004194\n",
       "liveness            0.942534\n",
       "audio_mode          0.766116\n",
       "tempo               0.764150\n",
       "song_duration_ms    0.632932\n",
       "song_popularity     0.563540\n",
       "time_signature      0.254061\n",
       "id                  0.000000\n",
       "key                -0.075304\n",
       "audio_valence      -0.181006\n",
       "danceability       -0.398386\n",
       "energy             -0.582832\n",
       "loudness           -1.430100\n",
       "dtype: float64"
      ]
     },
     "execution_count": 148,
     "metadata": {},
     "output_type": "execute_result"
    }
   ],
   "source": [
    "train.skew().sort_values(ascending = False)"
   ]
  },
  {
   "cell_type": "code",
   "execution_count": 149,
   "id": "4b7bc41d",
   "metadata": {},
   "outputs": [],
   "source": [
    "train_simple_imputer['instrumentalness'] = np.log(train_simple_imputer['instrumentalness'])\n",
    "train_simple_imputer['liveness'] = np.log(train_simple_imputer['liveness']) "
   ]
  },
  {
   "cell_type": "code",
   "execution_count": 150,
   "id": "46ef08be",
   "metadata": {},
   "outputs": [],
   "source": [
    "test_simple_impute['instrumentalness'] = np.log(test_simple_impute['instrumentalness'])\n",
    "test_simple_impute['liveness'] = np.log(test_simple_impute['liveness']) "
   ]
  },
  {
   "cell_type": "code",
   "execution_count": 164,
   "id": "64c71caf",
   "metadata": {},
   "outputs": [],
   "source": [
    "X = train_simple_imputer.drop(['id', 'song_popularity'], axis=1)\n",
    "Y = train_simple_imputer['song_popularity']"
   ]
  },
  {
   "cell_type": "code",
   "execution_count": 169,
   "id": "f0d027ab",
   "metadata": {},
   "outputs": [],
   "source": [
    "from sklearn.model_selection import train_test_split\n",
    "X_train, x_test, y_train, y_test = train_test_split(X, Y, test_size=0.5, random_state=1)"
   ]
  },
  {
   "cell_type": "code",
   "execution_count": 170,
   "id": "8c976ebf",
   "metadata": {},
   "outputs": [
    {
     "name": "stdout",
     "output_type": "stream",
     "text": [
      "Logistice regression\n",
      "AUC of the Logistice regression ---> 0.5\n",
      "Decision tree\n",
      "AUC of the Decision tree ---> 0.5047246823924241\n",
      "Random Forest\n",
      "AUC of the Random Forest ---> 0.5139425634987568\n"
     ]
    }
   ],
   "source": [
    "models = {\"Logistice regression\": log_reg,\"Decision tree\": decision_tree, \"Random Forest\": random_forest}\n",
    "\n",
    "for model_name, model in models.items():\n",
    "    print(model_name)\n",
    "    model.fit(X_train, y_train)\n",
    "    y_pred = model.predict(x_test)\n",
    "    auc = roc_auc_score(y_test, y_pred)\n",
    "    print(\"AUC of the {} ---> {}\".format(model_name, auc))"
   ]
  },
  {
   "cell_type": "code",
   "execution_count": 156,
   "id": "3effcb11",
   "metadata": {},
   "outputs": [],
   "source": [
    "dataset = imputer.fit_transform(train_simple_imputer.copy())\n",
    "train_simple_imputer= pd.DataFrame(dataset, columns=list(train_simple_imputer.columns))"
   ]
  },
  {
   "cell_type": "code",
   "execution_count": 159,
   "id": "5b21d320",
   "metadata": {},
   "outputs": [
    {
     "data": {
      "text/plain": [
       "(5, 14)"
      ]
     },
     "execution_count": 159,
     "metadata": {},
     "output_type": "execute_result"
    }
   ],
   "source": [
    "test_simple_impute.head().shape\n"
   ]
  },
  {
   "cell_type": "code",
   "execution_count": 160,
   "id": "05c2af3b",
   "metadata": {},
   "outputs": [],
   "source": [
    "from sklearn.impute import IterativeImputer\n",
    "imputer = IterativeImputer()"
   ]
  },
  {
   "cell_type": "code",
   "execution_count": 162,
   "id": "76ab0c34",
   "metadata": {},
   "outputs": [],
   "source": [
    "dataset_test = imputer.fit_transform(test_simple_impute.copy())"
   ]
  },
  {
   "cell_type": "code",
   "execution_count": 163,
   "id": "0da77545",
   "metadata": {},
   "outputs": [],
   "source": [
    "test_simple_impute= pd.DataFrame(dataset_test, columns=list(test_simple_impute.columns))"
   ]
  },
  {
   "cell_type": "code",
   "execution_count": 172,
   "id": "06d08772",
   "metadata": {},
   "outputs": [
    {
     "ename": "ImportError",
     "evalue": "cannot import name '_euclidean_distances' from 'sklearn.metrics.pairwise' (c:\\users\\hp\\appdata\\local\\programs\\python\\python39\\lib\\site-packages\\sklearn\\metrics\\pairwise.py)",
     "output_type": "error",
     "traceback": [
      "\u001b[1;31m---------------------------------------------------------------------------\u001b[0m",
      "\u001b[1;31mImportError\u001b[0m                               Traceback (most recent call last)",
      "\u001b[1;32m<ipython-input-172-0b052d41b57a>\u001b[0m in \u001b[0;36m<module>\u001b[1;34m\u001b[0m\n\u001b[1;32m----> 1\u001b[1;33m \u001b[1;32mfrom\u001b[0m \u001b[0mimblearn\u001b[0m\u001b[1;33m.\u001b[0m\u001b[0mover_sampling\u001b[0m \u001b[1;32mimport\u001b[0m \u001b[0mSMOTE\u001b[0m\u001b[1;33m\u001b[0m\u001b[1;33m\u001b[0m\u001b[0m\n\u001b[0m",
      "\u001b[1;32mc:\\users\\hp\\appdata\\local\\programs\\python\\python39\\lib\\site-packages\\imblearn\\__init__.py\u001b[0m in \u001b[0;36m<module>\u001b[1;34m\u001b[0m\n\u001b[0;32m     50\u001b[0m     \u001b[1;31m# process, as it may not be compiled yet\u001b[0m\u001b[1;33m\u001b[0m\u001b[1;33m\u001b[0m\u001b[1;33m\u001b[0m\u001b[0m\n\u001b[0;32m     51\u001b[0m \u001b[1;32melse\u001b[0m\u001b[1;33m:\u001b[0m\u001b[1;33m\u001b[0m\u001b[1;33m\u001b[0m\u001b[0m\n\u001b[1;32m---> 52\u001b[1;33m     \u001b[1;32mfrom\u001b[0m \u001b[1;33m.\u001b[0m \u001b[1;32mimport\u001b[0m \u001b[0mcombine\u001b[0m\u001b[1;33m\u001b[0m\u001b[1;33m\u001b[0m\u001b[0m\n\u001b[0m\u001b[0;32m     53\u001b[0m     \u001b[1;32mfrom\u001b[0m \u001b[1;33m.\u001b[0m \u001b[1;32mimport\u001b[0m \u001b[0mensemble\u001b[0m\u001b[1;33m\u001b[0m\u001b[1;33m\u001b[0m\u001b[0m\n\u001b[0;32m     54\u001b[0m     \u001b[1;32mfrom\u001b[0m \u001b[1;33m.\u001b[0m \u001b[1;32mimport\u001b[0m \u001b[0mexceptions\u001b[0m\u001b[1;33m\u001b[0m\u001b[1;33m\u001b[0m\u001b[0m\n",
      "\u001b[1;32mc:\\users\\hp\\appdata\\local\\programs\\python\\python39\\lib\\site-packages\\imblearn\\combine\\__init__.py\u001b[0m in \u001b[0;36m<module>\u001b[1;34m\u001b[0m\n\u001b[0;32m      3\u001b[0m \"\"\"\n\u001b[0;32m      4\u001b[0m \u001b[1;33m\u001b[0m\u001b[0m\n\u001b[1;32m----> 5\u001b[1;33m \u001b[1;32mfrom\u001b[0m \u001b[1;33m.\u001b[0m\u001b[0m_smote_enn\u001b[0m \u001b[1;32mimport\u001b[0m \u001b[0mSMOTEENN\u001b[0m\u001b[1;33m\u001b[0m\u001b[1;33m\u001b[0m\u001b[0m\n\u001b[0m\u001b[0;32m      6\u001b[0m \u001b[1;32mfrom\u001b[0m \u001b[1;33m.\u001b[0m\u001b[0m_smote_tomek\u001b[0m \u001b[1;32mimport\u001b[0m \u001b[0mSMOTETomek\u001b[0m\u001b[1;33m\u001b[0m\u001b[1;33m\u001b[0m\u001b[0m\n\u001b[0;32m      7\u001b[0m \u001b[1;33m\u001b[0m\u001b[0m\n",
      "\u001b[1;32mc:\\users\\hp\\appdata\\local\\programs\\python\\python39\\lib\\site-packages\\imblearn\\combine\\_smote_enn.py\u001b[0m in \u001b[0;36m<module>\u001b[1;34m\u001b[0m\n\u001b[0;32m      9\u001b[0m \u001b[1;33m\u001b[0m\u001b[0m\n\u001b[0;32m     10\u001b[0m \u001b[1;32mfrom\u001b[0m \u001b[1;33m.\u001b[0m\u001b[1;33m.\u001b[0m\u001b[0mbase\u001b[0m \u001b[1;32mimport\u001b[0m \u001b[0mBaseSampler\u001b[0m\u001b[1;33m\u001b[0m\u001b[1;33m\u001b[0m\u001b[0m\n\u001b[1;32m---> 11\u001b[1;33m \u001b[1;32mfrom\u001b[0m \u001b[1;33m.\u001b[0m\u001b[1;33m.\u001b[0m\u001b[0mover_sampling\u001b[0m \u001b[1;32mimport\u001b[0m \u001b[0mSMOTE\u001b[0m\u001b[1;33m\u001b[0m\u001b[1;33m\u001b[0m\u001b[0m\n\u001b[0m\u001b[0;32m     12\u001b[0m \u001b[1;32mfrom\u001b[0m \u001b[1;33m.\u001b[0m\u001b[1;33m.\u001b[0m\u001b[0mover_sampling\u001b[0m\u001b[1;33m.\u001b[0m\u001b[0mbase\u001b[0m \u001b[1;32mimport\u001b[0m \u001b[0mBaseOverSampler\u001b[0m\u001b[1;33m\u001b[0m\u001b[1;33m\u001b[0m\u001b[0m\n\u001b[0;32m     13\u001b[0m \u001b[1;32mfrom\u001b[0m \u001b[1;33m.\u001b[0m\u001b[1;33m.\u001b[0m\u001b[0munder_sampling\u001b[0m \u001b[1;32mimport\u001b[0m \u001b[0mEditedNearestNeighbours\u001b[0m\u001b[1;33m\u001b[0m\u001b[1;33m\u001b[0m\u001b[0m\n",
      "\u001b[1;32mc:\\users\\hp\\appdata\\local\\programs\\python\\python39\\lib\\site-packages\\imblearn\\over_sampling\\__init__.py\u001b[0m in \u001b[0;36m<module>\u001b[1;34m\u001b[0m\n\u001b[0;32m      6\u001b[0m \u001b[1;32mfrom\u001b[0m \u001b[1;33m.\u001b[0m\u001b[0m_adasyn\u001b[0m \u001b[1;32mimport\u001b[0m \u001b[0mADASYN\u001b[0m\u001b[1;33m\u001b[0m\u001b[1;33m\u001b[0m\u001b[0m\n\u001b[0;32m      7\u001b[0m \u001b[1;32mfrom\u001b[0m \u001b[1;33m.\u001b[0m\u001b[0m_random_over_sampler\u001b[0m \u001b[1;32mimport\u001b[0m \u001b[0mRandomOverSampler\u001b[0m\u001b[1;33m\u001b[0m\u001b[1;33m\u001b[0m\u001b[0m\n\u001b[1;32m----> 8\u001b[1;33m \u001b[1;32mfrom\u001b[0m \u001b[1;33m.\u001b[0m\u001b[0m_smote\u001b[0m \u001b[1;32mimport\u001b[0m \u001b[0mSMOTE\u001b[0m\u001b[1;33m\u001b[0m\u001b[1;33m\u001b[0m\u001b[0m\n\u001b[0m\u001b[0;32m      9\u001b[0m \u001b[1;32mfrom\u001b[0m \u001b[1;33m.\u001b[0m\u001b[0m_smote\u001b[0m \u001b[1;32mimport\u001b[0m \u001b[0mBorderlineSMOTE\u001b[0m\u001b[1;33m\u001b[0m\u001b[1;33m\u001b[0m\u001b[0m\n\u001b[0;32m     10\u001b[0m \u001b[1;32mfrom\u001b[0m \u001b[1;33m.\u001b[0m\u001b[0m_smote\u001b[0m \u001b[1;32mimport\u001b[0m \u001b[0mKMeansSMOTE\u001b[0m\u001b[1;33m\u001b[0m\u001b[1;33m\u001b[0m\u001b[0m\n",
      "\u001b[1;32mc:\\users\\hp\\appdata\\local\\programs\\python\\python39\\lib\\site-packages\\imblearn\\over_sampling\\_smote\\__init__.py\u001b[0m in \u001b[0;36m<module>\u001b[1;34m\u001b[0m\n\u001b[0;32m      3\u001b[0m \u001b[1;32mfrom\u001b[0m \u001b[1;33m.\u001b[0m\u001b[0mbase\u001b[0m \u001b[1;32mimport\u001b[0m \u001b[0mSMOTENC\u001b[0m\u001b[1;33m\u001b[0m\u001b[1;33m\u001b[0m\u001b[0m\n\u001b[0;32m      4\u001b[0m \u001b[1;33m\u001b[0m\u001b[0m\n\u001b[1;32m----> 5\u001b[1;33m \u001b[1;32mfrom\u001b[0m \u001b[1;33m.\u001b[0m\u001b[0mcluster\u001b[0m \u001b[1;32mimport\u001b[0m \u001b[0mKMeansSMOTE\u001b[0m\u001b[1;33m\u001b[0m\u001b[1;33m\u001b[0m\u001b[0m\n\u001b[0m\u001b[0;32m      6\u001b[0m \u001b[1;33m\u001b[0m\u001b[0m\n\u001b[0;32m      7\u001b[0m \u001b[1;32mfrom\u001b[0m \u001b[1;33m.\u001b[0m\u001b[0mfilter\u001b[0m \u001b[1;32mimport\u001b[0m \u001b[0mBorderlineSMOTE\u001b[0m\u001b[1;33m\u001b[0m\u001b[1;33m\u001b[0m\u001b[0m\n",
      "\u001b[1;32mc:\\users\\hp\\appdata\\local\\programs\\python\\python39\\lib\\site-packages\\imblearn\\over_sampling\\_smote\\cluster.py\u001b[0m in \u001b[0;36m<module>\u001b[1;34m\u001b[0m\n\u001b[0;32m     12\u001b[0m \u001b[1;33m\u001b[0m\u001b[0m\n\u001b[0;32m     13\u001b[0m \u001b[1;32mfrom\u001b[0m \u001b[0msklearn\u001b[0m\u001b[1;33m.\u001b[0m\u001b[0mbase\u001b[0m \u001b[1;32mimport\u001b[0m \u001b[0mclone\u001b[0m\u001b[1;33m\u001b[0m\u001b[1;33m\u001b[0m\u001b[0m\n\u001b[1;32m---> 14\u001b[1;33m \u001b[1;32mfrom\u001b[0m \u001b[0msklearn\u001b[0m\u001b[1;33m.\u001b[0m\u001b[0mcluster\u001b[0m \u001b[1;32mimport\u001b[0m \u001b[0mMiniBatchKMeans\u001b[0m\u001b[1;33m\u001b[0m\u001b[1;33m\u001b[0m\u001b[0m\n\u001b[0m\u001b[0;32m     15\u001b[0m \u001b[1;32mfrom\u001b[0m \u001b[0msklearn\u001b[0m\u001b[1;33m.\u001b[0m\u001b[0mmetrics\u001b[0m \u001b[1;32mimport\u001b[0m \u001b[0mpairwise_distances\u001b[0m\u001b[1;33m\u001b[0m\u001b[1;33m\u001b[0m\u001b[0m\n\u001b[0;32m     16\u001b[0m \u001b[1;32mfrom\u001b[0m \u001b[0msklearn\u001b[0m\u001b[1;33m.\u001b[0m\u001b[0mutils\u001b[0m \u001b[1;32mimport\u001b[0m \u001b[0m_safe_indexing\u001b[0m\u001b[1;33m\u001b[0m\u001b[1;33m\u001b[0m\u001b[0m\n",
      "\u001b[1;32mc:\\users\\hp\\appdata\\local\\programs\\python\\python39\\lib\\site-packages\\sklearn\\cluster\\__init__.py\u001b[0m in \u001b[0;36m<module>\u001b[1;34m\u001b[0m\n\u001b[0;32m      4\u001b[0m \"\"\"\n\u001b[0;32m      5\u001b[0m \u001b[1;33m\u001b[0m\u001b[0m\n\u001b[1;32m----> 6\u001b[1;33m \u001b[1;32mfrom\u001b[0m \u001b[1;33m.\u001b[0m\u001b[0m_spectral\u001b[0m \u001b[1;32mimport\u001b[0m \u001b[0mspectral_clustering\u001b[0m\u001b[1;33m,\u001b[0m \u001b[0mSpectralClustering\u001b[0m\u001b[1;33m\u001b[0m\u001b[1;33m\u001b[0m\u001b[0m\n\u001b[0m\u001b[0;32m      7\u001b[0m \u001b[1;32mfrom\u001b[0m \u001b[1;33m.\u001b[0m\u001b[0m_mean_shift\u001b[0m \u001b[1;32mimport\u001b[0m \u001b[0mmean_shift\u001b[0m\u001b[1;33m,\u001b[0m \u001b[0mMeanShift\u001b[0m\u001b[1;33m,\u001b[0m \u001b[0mestimate_bandwidth\u001b[0m\u001b[1;33m,\u001b[0m \u001b[0mget_bin_seeds\u001b[0m\u001b[1;33m\u001b[0m\u001b[1;33m\u001b[0m\u001b[0m\n\u001b[0;32m      8\u001b[0m \u001b[1;32mfrom\u001b[0m \u001b[1;33m.\u001b[0m\u001b[0m_affinity_propagation\u001b[0m \u001b[1;32mimport\u001b[0m \u001b[0maffinity_propagation\u001b[0m\u001b[1;33m,\u001b[0m \u001b[0mAffinityPropagation\u001b[0m\u001b[1;33m\u001b[0m\u001b[1;33m\u001b[0m\u001b[0m\n",
      "\u001b[1;32mc:\\users\\hp\\appdata\\local\\programs\\python\\python39\\lib\\site-packages\\sklearn\\cluster\\_spectral.py\u001b[0m in \u001b[0;36m<module>\u001b[1;34m\u001b[0m\n\u001b[0;32m     16\u001b[0m \u001b[1;32mfrom\u001b[0m \u001b[1;33m.\u001b[0m\u001b[1;33m.\u001b[0m\u001b[0mneighbors\u001b[0m \u001b[1;32mimport\u001b[0m \u001b[0mkneighbors_graph\u001b[0m\u001b[1;33m,\u001b[0m \u001b[0mNearestNeighbors\u001b[0m\u001b[1;33m\u001b[0m\u001b[1;33m\u001b[0m\u001b[0m\n\u001b[0;32m     17\u001b[0m \u001b[1;32mfrom\u001b[0m \u001b[1;33m.\u001b[0m\u001b[1;33m.\u001b[0m\u001b[0mmanifold\u001b[0m \u001b[1;32mimport\u001b[0m \u001b[0mspectral_embedding\u001b[0m\u001b[1;33m\u001b[0m\u001b[1;33m\u001b[0m\u001b[0m\n\u001b[1;32m---> 18\u001b[1;33m \u001b[1;32mfrom\u001b[0m \u001b[1;33m.\u001b[0m\u001b[0m_kmeans\u001b[0m \u001b[1;32mimport\u001b[0m \u001b[0mk_means\u001b[0m\u001b[1;33m\u001b[0m\u001b[1;33m\u001b[0m\u001b[0m\n\u001b[0m\u001b[0;32m     19\u001b[0m \u001b[1;33m\u001b[0m\u001b[0m\n\u001b[0;32m     20\u001b[0m \u001b[1;33m\u001b[0m\u001b[0m\n",
      "\u001b[1;32mc:\\users\\hp\\appdata\\local\\programs\\python\\python39\\lib\\site-packages\\sklearn\\cluster\\_kmeans.py\u001b[0m in \u001b[0;36m<module>\u001b[1;34m\u001b[0m\n\u001b[0;32m     19\u001b[0m \u001b[1;32mfrom\u001b[0m \u001b[1;33m.\u001b[0m\u001b[1;33m.\u001b[0m\u001b[0mbase\u001b[0m \u001b[1;32mimport\u001b[0m \u001b[0mBaseEstimator\u001b[0m\u001b[1;33m,\u001b[0m \u001b[0mClusterMixin\u001b[0m\u001b[1;33m,\u001b[0m \u001b[0mTransformerMixin\u001b[0m\u001b[1;33m\u001b[0m\u001b[1;33m\u001b[0m\u001b[0m\n\u001b[0;32m     20\u001b[0m \u001b[1;32mfrom\u001b[0m \u001b[1;33m.\u001b[0m\u001b[1;33m.\u001b[0m\u001b[0mmetrics\u001b[0m\u001b[1;33m.\u001b[0m\u001b[0mpairwise\u001b[0m \u001b[1;32mimport\u001b[0m \u001b[0meuclidean_distances\u001b[0m\u001b[1;33m\u001b[0m\u001b[1;33m\u001b[0m\u001b[0m\n\u001b[1;32m---> 21\u001b[1;33m \u001b[1;32mfrom\u001b[0m \u001b[1;33m.\u001b[0m\u001b[1;33m.\u001b[0m\u001b[0mmetrics\u001b[0m\u001b[1;33m.\u001b[0m\u001b[0mpairwise\u001b[0m \u001b[1;32mimport\u001b[0m \u001b[0m_euclidean_distances\u001b[0m\u001b[1;33m\u001b[0m\u001b[1;33m\u001b[0m\u001b[0m\n\u001b[0m\u001b[0;32m     22\u001b[0m \u001b[1;32mfrom\u001b[0m \u001b[1;33m.\u001b[0m\u001b[1;33m.\u001b[0m\u001b[0mutils\u001b[0m\u001b[1;33m.\u001b[0m\u001b[0mextmath\u001b[0m \u001b[1;32mimport\u001b[0m \u001b[0mrow_norms\u001b[0m\u001b[1;33m,\u001b[0m \u001b[0mstable_cumsum\u001b[0m\u001b[1;33m\u001b[0m\u001b[1;33m\u001b[0m\u001b[0m\n\u001b[0;32m     23\u001b[0m \u001b[1;32mfrom\u001b[0m \u001b[1;33m.\u001b[0m\u001b[1;33m.\u001b[0m\u001b[0mutils\u001b[0m\u001b[1;33m.\u001b[0m\u001b[0mfixes\u001b[0m \u001b[1;32mimport\u001b[0m \u001b[0mthreadpool_limits\u001b[0m\u001b[1;33m\u001b[0m\u001b[1;33m\u001b[0m\u001b[0m\n",
      "\u001b[1;31mImportError\u001b[0m: cannot import name '_euclidean_distances' from 'sklearn.metrics.pairwise' (c:\\users\\hp\\appdata\\local\\programs\\python\\python39\\lib\\site-packages\\sklearn\\metrics\\pairwise.py)"
     ]
    }
   ],
   "source": [
    "from imblearn.over_sampling import SMOTE"
   ]
  },
  {
   "cell_type": "code",
   "execution_count": null,
   "id": "50d13a0f",
   "metadata": {},
   "outputs": [],
   "source": [
    "oversample = SMOTE()\n",
    "X, y = oversample.fit_resample(train_X, train_y)"
   ]
  }
 ],
 "metadata": {
  "kernelspec": {
   "display_name": "Python 3",
   "language": "python",
   "name": "python3"
  },
  "language_info": {
   "codemirror_mode": {
    "name": "ipython",
    "version": 3
   },
   "file_extension": ".py",
   "mimetype": "text/x-python",
   "name": "python",
   "nbconvert_exporter": "python",
   "pygments_lexer": "ipython3",
   "version": "3.9.5"
  }
 },
 "nbformat": 4,
 "nbformat_minor": 5
}
